{
 "cells": [
  {
   "cell_type": "code",
   "execution_count": 22,
   "metadata": {},
   "outputs": [],
   "source": [
    "import pandas as pd\n",
    "import numpy as np\n",
    "import matplotlib.pyplot as plt\n",
    "from scipy.optimize import leastsq \n",
    "from scipy.stats import linregress"
   ]
  },
  {
   "cell_type": "markdown",
   "metadata": {},
   "source": [
    "# 上海test"
   ]
  },
  {
   "cell_type": "code",
   "execution_count": 3,
   "metadata": {},
   "outputs": [],
   "source": [
    "df = pd.read_excel(r\"C:\\Users\\tunag\\Desktop\\liner_regression.xlsx\")"
   ]
  },
  {
   "cell_type": "code",
   "execution_count": 9,
   "metadata": {},
   "outputs": [
    {
     "data": {
      "text/plain": [
       "Index(['年份', ' 中国国内总储蓄(现价亿美元)', ' 中国GDP（本币）(现价本币)（亿）', '年末人口（万人）',\n",
       "       '社会消费品零售总额(亿元)'],\n",
       "      dtype='object')"
      ]
     },
     "execution_count": 9,
     "metadata": {},
     "output_type": "execute_result"
    }
   ],
   "source": [
    "df.columns"
   ]
  },
  {
   "cell_type": "code",
   "execution_count": 5,
   "metadata": {},
   "outputs": [],
   "source": [
    "def fun(p,x1,x2,x3):\n",
    "    a,b,c,d = p\n",
    "    return a*x1 + b*x2 + c*x3 +d"
   ]
  },
  {
   "cell_type": "code",
   "execution_count": 6,
   "metadata": {},
   "outputs": [],
   "source": [
    "def err(p, x1, x2, x3, y):\n",
    "    return fun(p,x1,x2,x3) - y"
   ]
  },
  {
   "cell_type": "code",
   "execution_count": 7,
   "metadata": {},
   "outputs": [],
   "source": [
    "p = [1,1,1,1]"
   ]
  },
  {
   "cell_type": "code",
   "execution_count": 13,
   "metadata": {},
   "outputs": [],
   "source": [
    "x1 = df.iloc[:,1]\n",
    "x2 = df.iloc[:,2]\n",
    "x3 = df.iloc[:,3]\n",
    "y = df.iloc[:,4]"
   ]
  },
  {
   "cell_type": "code",
   "execution_count": 14,
   "metadata": {},
   "outputs": [],
   "source": [
    "output = leastsq(err,p,args=(x1,x2,x3,y))"
   ]
  },
  {
   "cell_type": "code",
   "execution_count": 15,
   "metadata": {},
   "outputs": [
    {
     "name": "stdout",
     "output_type": "stream",
     "text": [
      "(array([-2.35838249e+00,  7.45319075e-01, -8.14229020e+00,  1.01377828e+06]), 1)\n"
     ]
    }
   ],
   "source": [
    "print(output)"
   ]
  },
  {
   "cell_type": "code",
   "execution_count": 17,
   "metadata": {},
   "outputs": [],
   "source": [
    "a,b,c,d = output[0]"
   ]
  },
  {
   "cell_type": "code",
   "execution_count": 20,
   "metadata": {},
   "outputs": [
    {
     "data": {
      "text/plain": [
       "[<matplotlib.lines.Line2D at 0x1c9c193b400>]"
      ]
     },
     "execution_count": 20,
     "metadata": {},
     "output_type": "execute_result"
    },
    {
     "data": {
      "image/png": "[encoded data removed]",
      "text/plain": [
       "<Figure size 432x288 with 1 Axes>"
      ]
     },
     "metadata": {
      "needs_background": "light"
     },
     "output_type": "display_data"
    }
   ],
   "source": [
    "plt.plot(df.iloc[:,0],y)"
   ]
  },
  {
   "cell_type": "markdown",
   "metadata": {},
   "source": [
    "# 单变量线性拟合"
   ]
  },
  {
   "cell_type": "code",
   "execution_count": 24,
   "metadata": {},
   "outputs": [],
   "source": [
    "def fitfunc1(p,x): #定义拟合函数为单变量线性方程\n",
    "    p0, p1 = p\n",
    "    y = p0 + p1*x\n",
    "    return y "
   ]
  },
  {
   "cell_type": "code",
   "execution_count": 26,
   "metadata": {},
   "outputs": [],
   "source": [
    "def error1(p,x,y): #定义观测值和拟合值之间的误差函数\n",
    "    err = fitfunc1(p,x) - y\n",
    "    return err"
   ]
  },
  {
   "cell_type": "code",
   "execution_count": 27,
   "metadata": {},
   "outputs": [
    {
     "name": "stdout",
     "output_type": "stream",
     "text": [
      "(11,) (11,) (11,)\n"
     ]
    }
   ],
   "source": [
    "p = [2.5, 1.5] # y = p[0] + p[1] * x\n",
    "x = np.array([0., 0.5, 1.5, 2.5, 4.5, 5.5, 7.5, 8.0, 8.5, 9.0, 10.0]) \n",
    "y = p[0] + p[1] * x #理论值y\n",
    "yObs = y + np.random.randn(x.shape[-1])\n",
    "\n",
    "print(x.shape, y.shape, yObs.shape)"
   ]
  },
  {
   "cell_type": "code",
   "execution_count": 28,
   "metadata": {},
   "outputs": [],
   "source": [
    "#根据leastsq的结果和x的实际值求得拟合函数的参数\n",
    "p0 = [1,1] #参数的初始值，只会影响计算时长，不会影响最终结果\n",
    "pFit, info = leastsq(error1, p0, args=(x, yObs))"
   ]
  },
  {
   "cell_type": "code",
   "execution_count": 29,
   "metadata": {},
   "outputs": [
    {
     "name": "stdout",
     "output_type": "stream",
     "text": [
      "Data fitting with Scipy.optimize.leastsq\n",
      "y = p[0] + p[1] * x\n",
      "p[0] = 2.9340\n",
      "p[1] = 1.4775\n"
     ]
    }
   ],
   "source": [
    "print(\"Data fitting with Scipy.optimize.leastsq\")\n",
    "print(\"y = p[0] + p[1] * x\")\n",
    "print(\"p[0] = {:.4f}\\np[1] = {:.4f}\".format(pFit[0], pFit[1]))"
   ]
  },
  {
   "cell_type": "code",
   "execution_count": 30,
   "metadata": {},
   "outputs": [
    {
     "name": "stdout",
     "output_type": "stream",
     "text": [
      "\n",
      "Linear regress with Scipy.stats.linregress\n",
      "y = p[0] + p[1] * x\n",
      "p[0] = 2.9340\n",
      "p[1] = 1.4775\n",
      "r^2_value: 0.9438\n",
      "p_value: 0.0000\n",
      "std: 0.1202\n"
     ]
    }
   ],
   "source": [
    "yFit = fitfunc1(pFit, x)\n",
    "slope, intercept, r_value, p_value, std = linregress(x, yObs)\n",
    "print(\"\\nLinear regress with Scipy.stats.linregress\")\n",
    "print(\"y = p[0] + p[1] * x\")\n",
    "print(\"p[0] = {:.4f}\".format(intercept)) # 输出截距 intercept\n",
    "print(\"p[1] = {:.4f}\".format(slope)) # 输出斜率 slope\n",
    "print(\"r^2_value: {:.4f}\".format(r_value**2)) # 输出 r^2 值\n",
    "print(\"p_value: {:.4f}\".format(p_value)) # 输出 p 值\n",
    "print(\"std: {:.4f}\".format(std)) # 输出标准差 std"
   ]
  },
  {
   "cell_type": "code",
   "execution_count": 31,
   "metadata": {},
   "outputs": [
    {
     "data": {
      "image/png": "[encoded data removed]",
      "text/plain": [
       "<Figure size 576x432 with 1 Axes>"
      ]
     },
     "metadata": {
      "needs_background": "light"
     },
     "output_type": "display_data"
    }
   ],
   "source": [
    "fig, ax = plt.subplots(figsize=(8,6))\n",
    "ax.text(8,3,\"youcans-xupt\",color='gainsboro')\n",
    "ax.set_title(\"Data fitting with linear least squares\")\n",
    "plt.scatter(x, yObs, label=\"observed data\") #观测值（理论值y加了白噪音）\n",
    "plt.plot(x, y, 'r--', label=\"theoretical curve\") #理论值\n",
    "plt.plot(x, yFit, 'b-', label=\"fitting curve\") #拟合值\n",
    "plt.legend(loc=\"best\")\n",
    "plt.show()"
   ]
  },
  {
   "cell_type": "markdown",
   "metadata": {},
   "source": [
    "# 多变量线性拟合"
   ]
  },
  {
   "cell_type": "code",
   "execution_count": 33,
   "metadata": {},
   "outputs": [],
   "source": [
    "def fitfunc2(p, x1, x2): # 定义拟合函数为直线\n",
    "    p0, p1, p2 = p # 拟合函数的参数\n",
    "    y = p0 + p1*x1 + p2*x2 # 拟合函数的表达式\n",
    "    return y"
   ]
  },
  {
   "cell_type": "code",
   "execution_count": 34,
   "metadata": {},
   "outputs": [],
   "source": [
    "def error2(p, x1, x2, y): # 定义观测值与拟合函数值的误差函数\n",
    "    err = fitfunc2(p, x1, x2) - y # 计算残差\n",
    "    return err"
   ]
  },
  {
   "cell_type": "code",
   "execution_count": 35,
   "metadata": {},
   "outputs": [],
   "source": [
    "p = [2.5, 1.5, -0.5] # y = p[0] + p[1] * x1 + p[2] * x2\n",
    "x1 = np.array([0., 0.5, 1.5, 2.5, 4.5, 5.5, 7.5, 8.0, 8.5, 9.0, 10.0])\n",
    "x2 = np.array([0., 1.0, 1.5, 2.2, 4.8, 5.0, 6.3, 6.8, 7.1, 7.5, 8.0])\n",
    "z = p[0] + p[1]*x1 + p[2]*x2 # 理论值 z\n",
    "zObs = z + np.random.randn(x1.shape[-1])"
   ]
  },
  {
   "cell_type": "code",
   "execution_count": 36,
   "metadata": {},
   "outputs": [
    {
     "name": "stdout",
     "output_type": "stream",
     "text": [
      "Data fitting with Scipy.optimize.leastsq:\n",
      "z = p[0] + p[1]*x1 + p[1]*x2\n",
      "p[0]=2.1001\n",
      "p[1]=2.1731\n",
      "p[2]=-1.3389\n"
     ]
    }
   ],
   "source": [
    "p0 = [1, 1, 1] # 设置拟合函数的参数初值\n",
    "pFit, info = leastsq(error2, p0, args=(x1,x2,zObs)) # 最小二乘法求拟合参数\n",
    "print(\"Data fitting with Scipy.optimize.leastsq:\")\n",
    "print(\"z = p[0] + p[1]*x1 + p[1]*x2\")\n",
    "print(\"p[0]={:.4f}\\np[1]={:.4f}\\np[2]={:.4f}\".format(pFit[0], pFit[1], pFit[2]))"
   ]
  },
  {
   "cell_type": "code",
   "execution_count": null,
   "metadata": {},
   "outputs": [],
   "source": [
    "\"\"\"\n",
    "https://zhuanlan.zhihu.com/p/22692029\n",
    "statsmodels.api.OLS(因变量，自变量）\n",
    "单纯的输出结果为一个类，需要再去调用 .fit()才能完成最终的运算\n",
    "\"\"\""
   ]
  },
  {
   "cell_type": "code",
   "execution_count": 37,
   "metadata": {},
   "outputs": [
    {
     "name": "stdout",
     "output_type": "stream",
     "text": [
      "                            OLS Regression Results                            \n",
      "==============================================================================\n",
      "Dep. Variable:                      y   R-squared:                       0.963\n",
      "Model:                            OLS   Adj. R-squared:                  0.954\n",
      "Method:                 Least Squares   F-statistic:                     104.4\n",
      "Date:                Wed, 16 Mar 2022   Prob (F-statistic):           1.86e-06\n",
      "Time:                        09:30:19   Log-Likelihood:                -12.609\n",
      "No. Observations:                  11   AIC:                             31.22\n",
      "Df Residuals:                       8   BIC:                             32.41\n",
      "Df Model:                           2                                         \n",
      "Covariance Type:            nonrobust                                         \n",
      "==============================================================================\n",
      "                 coef    std err          t      P>|t|      [0.025      0.975]\n",
      "------------------------------------------------------------------------------\n",
      "const          2.1001      0.611      3.439      0.009       0.692       3.508\n",
      "x1             2.1731      0.676      3.215      0.012       0.614       3.732\n",
      "x2            -1.3389      0.850     -1.575      0.154      -3.299       0.621\n",
      "==============================================================================\n",
      "Omnibus:                        1.915   Durbin-Watson:                   2.954\n",
      "Prob(Omnibus):                  0.384   Jarque-Bera (JB):                1.109\n",
      "Skew:                          -0.482   Prob(JB):                        0.574\n",
      "Kurtosis:                       1.779   Cond. No.                         35.4\n",
      "==============================================================================\n",
      "\n",
      "Notes:\n",
      "[1] Standard Errors assume that the covariance matrix of the errors is correctly specified.\n",
      "\n",
      "OLS model: y = b0*x0 + b1*x1 + b2*x2\n",
      "Parameters:  [ 2.10013152  2.17308125 -1.33888821]\n"
     ]
    },
    {
     "name": "stderr",
     "output_type": "stream",
     "text": [
      "C:\\Users\\tunag\\anaconda3\\lib\\site-packages\\scipy\\stats\\stats.py:1541: UserWarning: kurtosistest only valid for n>=20 ... continuing anyway, n=11\n",
      "  warnings.warn(\"kurtosistest only valid for n>=20 ... continuing \"\n"
     ]
    }
   ],
   "source": [
    "# 由拟合函数 fitfunc 计算拟合曲线在数据点的函数值\n",
    "zFit = fitfunc2(pFit, x1, x2)\n",
    "# 多元线性回归：最小二乘法(OLS)\n",
    "import statsmodels.api as sm\n",
    "x0 = np.ones(x1.shape[-1]) # 截距列 x0=[1,...1] 返回一个大小一致且全是1的array\n",
    "X = np.column_stack((x0, x1, x2)) # (nSample,3): [x0, x1, x2] 矩阵变换\n",
    "model = sm.OLS(zObs, X) # 建立 OLS 模型: y = b0*x0 + b1*x1 + b2*x2 + e\n",
    "results = model.fit() # 返回模型拟合结果\n",
    "zFit = results.fittedvalues # 模型拟合的 y值\n",
    "print(results.summary()) # 输出回归分析的摘要\n",
    "print(\"\\nOLS model: y = b0*x0 + b1*x1 + b2*x2\")\n",
    "print('Parameters: ', results.params)"
   ]
  },
  {
   "cell_type": "code",
   "execution_count": 38,
   "metadata": {},
   "outputs": [
    {
     "data": {
      "text/plain": [
       "array([[ 1. ,  0. ,  0. ],\n",
       "       [ 1. ,  0.5,  1. ],\n",
       "       [ 1. ,  1.5,  1.5],\n",
       "       [ 1. ,  2.5,  2.2],\n",
       "       [ 1. ,  4.5,  4.8],\n",
       "       [ 1. ,  5.5,  5. ],\n",
       "       [ 1. ,  7.5,  6.3],\n",
       "       [ 1. ,  8. ,  6.8],\n",
       "       [ 1. ,  8.5,  7.1],\n",
       "       [ 1. ,  9. ,  7.5],\n",
       "       [ 1. , 10. ,  8. ]])"
      ]
     },
     "execution_count": 38,
     "metadata": {},
     "output_type": "execute_result"
    }
   ],
   "source": []
  }
 ],
 "metadata": {
  "interpreter": {
   "hash": "4c452c4941114ad41405285434dbc9976a862952faac040a1f7f13bdbb15c829"
  },
  "kernelspec": {
   "display_name": "Python 3.9.7 ('base')",
   "language": "python",
   "name": "python3"
  },
  "language_info": {
   "codemirror_mode": {
    "name": "ipython",
    "version": 3
   },
   "file_extension": ".py",
   "mimetype": "text/x-python",
   "name": "python",
   "nbconvert_exporter": "python",
   "pygments_lexer": "ipython3",
   "version": "3.9.7"
  },
  "orig_nbformat": 4
 },
 "nbformat": 4,
 "nbformat_minor": 2
}
